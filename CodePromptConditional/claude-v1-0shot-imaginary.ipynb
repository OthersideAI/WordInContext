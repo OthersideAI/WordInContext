{
 "cells": [
  {
   "cell_type": "code",
   "execution_count": 1,
   "id": "ff932a49",
   "metadata": {},
   "outputs": [],
   "source": [
    "import json\n",
    "import openai\n",
    "import os\n",
    "import random\n",
    "\n",
    "import numpy as np\n",
    "import pandas as pd"
   ]
  },
  {
   "attachments": {},
   "cell_type": "markdown",
   "id": "1c1d7ee1",
   "metadata": {},
   "source": [
    "Import openai api key from environment variable - here I have it stored as `LOCAL_OPENAI_API_KEY` but you can just paste yours in instead"
   ]
  },
  {
   "cell_type": "code",
   "execution_count": 12,
   "id": "c209f874",
   "metadata": {},
   "outputs": [],
   "source": [
    "import os\n",
    "import requests\n",
    "\n",
    "ANTHORPIC_KEY = os.environ.get('ANTHORPIC_KEY')\n",
    "\n",
    "def query(prompt, **kwargs):\n",
    "\n",
    "    formattedKwargs = {}\n",
    "    for key, value in kwargs.items():\n",
    "        if key == 'max_tokens':\n",
    "            formattedKwargs['max_tokens_to_sample'] = value\n",
    "        else:\n",
    "            formattedKwargs[key] = value\n",
    "\n",
    "    payload = {\n",
    "        \"prompt\": 'Human: ' + prompt + '\\nProvide the JSON output of the code and nothing else.\\n\\nAssistant:',\n",
    "        \"model\": \"claude-v1\",\n",
    "        \"stop_sequences\": [\"\\n\\nHuman:\"],\n",
    "        \"max_tokens_to_sample\": 500,\n",
    "        \"temperature\": 0,\n",
    "        **formattedKwargs\n",
    "    }\n",
    "    headers = {\n",
    "        \"x-api-key\": ANTHORPIC_KEY,\n",
    "        \"content-type\": \"application/json\"\n",
    "    }\n",
    "    r = requests.post(\"https://api.anthropic.com/v1/complete\", json=payload, headers=headers)\n",
    "    r = r.json()\n",
    "\n",
    "    return r['completion']"
   ]
  },
  {
   "attachments": {},
   "cell_type": "markdown",
   "id": "58c80c83",
   "metadata": {},
   "source": [
    "Great, the API key is loaded. Now we can start using the API."
   ]
  },
  {
   "cell_type": "code",
   "execution_count": 3,
   "id": "859af59a",
   "metadata": {},
   "outputs": [
    {
     "data": {
      "text/plain": [
       "' \\n2'"
      ]
     },
     "execution_count": 3,
     "metadata": {},
     "output_type": "execute_result"
    }
   ],
   "source": [
    "query(\"q: what is 1+1?\\na:\")"
   ]
  },
  {
   "attachments": {},
   "cell_type": "markdown",
   "id": "39ccc207",
   "metadata": {},
   "source": [
    "This downloads the WIC dataset - you may need to install wget if you don't have it installed https://ports.macports.org/port/wget/"
   ]
  },
  {
   "cell_type": "code",
   "execution_count": 4,
   "id": "35fd9e50",
   "metadata": {},
   "outputs": [
    {
     "name": "stdout",
     "output_type": "stream",
     "text": [
      "--2023-03-27 00:56:24--  https://pilehvar.github.io/wic/package/WiC_dataset.zip\n",
      "Resolving pilehvar.github.io (pilehvar.github.io)... 2606:50c0:8002::153, 2606:50c0:8003::153, 2606:50c0:8001::153, ...\n",
      "Connecting to pilehvar.github.io (pilehvar.github.io)|2606:50c0:8002::153|:443... connected.\n",
      "HTTP request sent, awaiting response... 200 OK\n",
      "Length: 275984 (270K) [application/zip]\n",
      "Saving to: ‘WiC_dataset.zip’\n",
      "\n",
      "WiC_dataset.zip     100%[===================>] 269.52K  --.-KB/s    in 0.04s   \n",
      "\n",
      "2023-03-27 00:56:24 (5.90 MB/s) - ‘WiC_dataset.zip’ saved [275984/275984]\n",
      "\n"
     ]
    }
   ],
   "source": [
    "!wget https://pilehvar.github.io/wic/package/WiC_dataset.zip"
   ]
  },
  {
   "cell_type": "code",
   "execution_count": 5,
   "id": "6a789718",
   "metadata": {},
   "outputs": [],
   "source": [
    "import zipfile\n",
    "with zipfile.ZipFile(\"WiC_dataset.zip\",\"r\") as zip_ref:\n",
    "    zip_ref.extractall(\".\")"
   ]
  },
  {
   "cell_type": "code",
   "execution_count": 6,
   "id": "719c200f",
   "metadata": {},
   "outputs": [],
   "source": [
    "train = pd.read_csv(\"train/train.data.txt\", sep='\\t', header=None)\n",
    "train.columns = [\"target\", \"pos\", \"position\", \"context-1\", \"context-2\"]\n",
    "train_gold = pd.read_csv(\"train/train.gold.txt\", sep='\\t', header=None)\n",
    "train_gold.columns = [\"label\"]\n",
    "train = pd.concat([train_gold,train], axis=1)\n"
   ]
  },
  {
   "cell_type": "code",
   "execution_count": 7,
   "id": "5eeb235f",
   "metadata": {},
   "outputs": [
    {
     "data": {
      "text/html": [
       "<div>\n",
       "<style scoped>\n",
       "    .dataframe tbody tr th:only-of-type {\n",
       "        vertical-align: middle;\n",
       "    }\n",
       "\n",
       "    .dataframe tbody tr th {\n",
       "        vertical-align: top;\n",
       "    }\n",
       "\n",
       "    .dataframe thead th {\n",
       "        text-align: right;\n",
       "    }\n",
       "</style>\n",
       "<table border=\"1\" class=\"dataframe\">\n",
       "  <thead>\n",
       "    <tr style=\"text-align: right;\">\n",
       "      <th></th>\n",
       "      <th>label</th>\n",
       "      <th>target</th>\n",
       "      <th>pos</th>\n",
       "      <th>position</th>\n",
       "      <th>context-1</th>\n",
       "      <th>context-2</th>\n",
       "    </tr>\n",
       "  </thead>\n",
       "  <tbody>\n",
       "    <tr>\n",
       "      <th>5386</th>\n",
       "      <td>F</td>\n",
       "      <td>admit</td>\n",
       "      <td>V</td>\n",
       "      <td>3-1</td>\n",
       "      <td>The French doors admit onto the yard .</td>\n",
       "      <td>He admitted his errors .</td>\n",
       "    </tr>\n",
       "    <tr>\n",
       "      <th>5387</th>\n",
       "      <td>F</td>\n",
       "      <td>exhaust</td>\n",
       "      <td>V</td>\n",
       "      <td>0-4</td>\n",
       "      <td>Exhaust one 's savings .</td>\n",
       "      <td>This kind of work exhausts me .</td>\n",
       "    </tr>\n",
       "    <tr>\n",
       "      <th>5389</th>\n",
       "      <td>F</td>\n",
       "      <td>kill</td>\n",
       "      <td>V</td>\n",
       "      <td>0-2</td>\n",
       "      <td>Kill the engine .</td>\n",
       "      <td>She was killed in the collision of three cars .</td>\n",
       "    </tr>\n",
       "    <tr>\n",
       "      <th>5390</th>\n",
       "      <td>T</td>\n",
       "      <td>admit</td>\n",
       "      <td>V</td>\n",
       "      <td>1-1</td>\n",
       "      <td>To admit a serious thought into the mind .</td>\n",
       "      <td>She admitted us here .</td>\n",
       "    </tr>\n",
       "    <tr>\n",
       "      <th>5394</th>\n",
       "      <td>F</td>\n",
       "      <td>write</td>\n",
       "      <td>V</td>\n",
       "      <td>6-1</td>\n",
       "      <td>How many books did Georges Simenon write ?</td>\n",
       "      <td>Please write to me every week .</td>\n",
       "    </tr>\n",
       "  </tbody>\n",
       "</table>\n",
       "</div>"
      ],
      "text/plain": [
       "     label   target pos position                                   context-1  \\\n",
       "5386     F    admit   V      3-1      The French doors admit onto the yard .   \n",
       "5387     F  exhaust   V      0-4                    Exhaust one 's savings .   \n",
       "5389     F     kill   V      0-2                           Kill the engine .   \n",
       "5390     T    admit   V      1-1  To admit a serious thought into the mind .   \n",
       "5394     F    write   V      6-1  How many books did Georges Simenon write ?   \n",
       "\n",
       "                                            context-2  \n",
       "5386                         He admitted his errors .  \n",
       "5387                  This kind of work exhausts me .  \n",
       "5389  She was killed in the collision of three cars .  \n",
       "5390                           She admitted us here .  \n",
       "5394                  Please write to me every week .  "
      ]
     },
     "execution_count": 7,
     "metadata": {},
     "output_type": "execute_result"
    }
   ],
   "source": [
    "train[train.pos==\"V\"].tail(18)[:5]\n"
   ]
  },
  {
   "attachments": {},
   "cell_type": "markdown",
   "id": "a5d5af78",
   "metadata": {},
   "source": [
    "We can go and grab the last couple verbs of the train set to use as our few shots. I added some annotation for meaning"
   ]
  },
  {
   "cell_type": "code",
   "execution_count": 8,
   "id": "ee2badfa",
   "metadata": {},
   "outputs": [],
   "source": [
    "\n",
    "fewShotVerb = \"\"\" interface comparison{\n",
    "    \"Similar\": bool, // whether the two meaings of the word are similar or used to mean different things, should be true | false\n",
    "}\n",
    "\n",
    "determineWordSimilarSense(word, context1, context2) : comparison =>{\n",
    "    senseOfFirstWord = ai.computeSense(word, context1) // return the sense of the word in the first context\n",
    "    senseOfSecondWord = ai.computeSense(word, context2) // return the sense of the word in the second context\n",
    "    return ai.compare(word, senseOfFirstWord, senseOfSecondWord) // return the comparison object\n",
    "}\n",
    "\n",
    "//This returns the keys inside of double quotes (\"KEY\") so we can parse with JSON\n",
    "\n",
    "\"\"\""
   ]
  },
  {
   "attachments": {},
   "cell_type": "markdown",
   "id": "000b6d2b",
   "metadata": {},
   "source": [
    "Likewise we can do it with nouns"
   ]
  },
  {
   "cell_type": "code",
   "execution_count": 9,
   "id": "97710a99",
   "metadata": {},
   "outputs": [],
   "source": [
    "\n",
    "fewShotNoun = \"\"\" interface comparison{\n",
    "    \"Similar\": bool, // whether the two meaings of the word are similar or used to mean different things, should be true | false\n",
    "}\n",
    "\n",
    "determineWordSimilarSense(word, context1, context2) : comparison =>{\n",
    "    senseOfFirstWord = ai.computeSense(word, context1) // return the sense of the word in the first context\n",
    "    senseOfSecondWord = ai.computeSense(word, context2) // return the sense of the word in the second context\n",
    "    return ai.compare(word, senseOfFirstWord, senseOfSecondWord) // return the comparison object\n",
    "}\n",
    "\n",
    "//This returns the keys inside of double quotes (\"KEY\") so we can parse with JSON\n",
    "\n",
    "\"\"\""
   ]
  },
  {
   "cell_type": "code",
   "execution_count": 13,
   "id": "cc80f075",
   "metadata": {},
   "outputs": [],
   "source": [
    "def testRow(row):\n",
    "  pos = row[1][\"pos\"]\n",
    "  examples = fewShotNoun if pos == \"N\" else fewShotVerb\n",
    "\n",
    "  context = \"\"\"determineWordSimilarSense(\"{}\", \"{}\", \"{}\")\n",
    ">>>\"\"\".format(row[1][\"context-1\"], row[1][\"context-2\"], row[1][\"target\"])\n",
    "  res = query(examples + context)\n",
    "  try:\n",
    "    parsed = json.loads(res)\n",
    "  except Exception as e:\n",
    "    print('error parsing: ', e)\n",
    "    # check if there's a true in the last 100 characters\n",
    "    parsed = {\n",
    "      \"Context\": res,\n",
    "      \"Similar\": \"true\" in res.lower()[-100:]\n",
    "    }\n",
    "\n",
    "  return parsed\n"
   ]
  },
  {
   "cell_type": "code",
   "execution_count": 14,
   "id": "b73eec67",
   "metadata": {},
   "outputs": [
    {
     "name": "stdout",
     "output_type": "stream",
     "text": [
      "scores {'V': 0, 'N': 0}\n",
      "attempted {'V': 0, 'N': 0}\n",
      "output: {'Similar': True}\n",
      "scores {'V': 0, 'N': 0}\n",
      "attempted {'V': 1, 'N': 0}\n",
      "output: {'Similar': False}\n",
      "scores {'V': 1, 'N': 0}\n",
      "attempted {'V': 2, 'N': 0}\n",
      "output: {'Similar': False}\n",
      "scores {'V': 2, 'N': 0}\n",
      "attempted {'V': 3, 'N': 0}\n",
      "output: {'Similar': False}\n",
      "scores {'V': 2, 'N': 0}\n",
      "attempted {'V': 3, 'N': 1}\n",
      "output: {'Similar': True}\n",
      "scores {'V': 2, 'N': 0}\n",
      "attempted {'V': 3, 'N': 2}\n",
      "output: {'Similar': False}\n",
      "scores {'V': 3, 'N': 0}\n",
      "attempted {'V': 4, 'N': 2}\n",
      "output: {'Similar': True}\n",
      "scores {'V': 4, 'N': 0}\n",
      "attempted {'V': 5, 'N': 2}\n",
      "output: {'Similar': False}\n",
      "scores {'V': 5, 'N': 0}\n",
      "attempted {'V': 6, 'N': 2}\n",
      "output: {'Similar': True}\n",
      "scores {'V': 6, 'N': 0}\n",
      "attempted {'V': 7, 'N': 2}\n",
      "output: {'Similar': True}\n"
     ]
    }
   ],
   "source": [
    "scores = {'V': 0, 'N': 0}\n",
    "attempted = {'V': 0, 'N': 0}\n",
    "for row in train.head(10).iterrows():\n",
    "    print('scores', scores)\n",
    "    print('attempted', attempted)\n",
    "    actual = row[1][\"label\"]\n",
    "    output = testRow(row)\n",
    "    print('output:', output)\n",
    "    pos = row[1][\"pos\"]\n",
    "    attempted[pos] += 1\n",
    "\n",
    "    if actual == \"T\":\n",
    "        if output['Similar']:\n",
    "            scores[pos] += 1\n",
    "        \n",
    "    if actual == \"F\":\n",
    "        if not output['Similar']:\n",
    "            scores[pos] += 1\n",
    "\n"
   ]
  },
  {
   "cell_type": "code",
   "execution_count": 15,
   "id": "f85eb05c",
   "metadata": {},
   "outputs": [
    {
     "data": {
      "text/plain": [
       "({'V': 6, 'N': 1}, {'V': 7, 'N': 3})"
      ]
     },
     "execution_count": 15,
     "metadata": {},
     "output_type": "execute_result"
    }
   ],
   "source": [
    "scores, attempted"
   ]
  },
  {
   "cell_type": "code",
   "execution_count": 16,
   "id": "936860db",
   "metadata": {},
   "outputs": [],
   "source": [
    "dev = pd.read_csv(\"dev/dev.data.txt\", sep='\\t', header=None)\n",
    "dev.columns = [\"target\", \"pos\", \"position\", \"context-1\", \"context-2\"]\n",
    "dev_gold = pd.read_csv(\"dev/dev.gold.txt\", sep='\\t', header=None)\n",
    "dev_gold.columns = [\"label\"]\n",
    "dev = pd.concat([dev_gold,dev], axis=1)\n"
   ]
  },
  {
   "cell_type": "code",
   "execution_count": 17,
   "id": "7bf1cd4f",
   "metadata": {},
   "outputs": [],
   "source": [
    "devResults = {}\n",
    "complete = 0\n",
    "correct = 0"
   ]
  },
  {
   "cell_type": "code",
   "execution_count": 18,
   "id": "1052a35e",
   "metadata": {},
   "outputs": [
    {
     "name": "stdout",
     "output_type": "stream",
     "text": [
      "Score: 1.0, Complete: 1 Correct: 1 Wrong: 0\n",
      "Score: 0.5, Complete: 2 Correct: 1 Wrong: 1\n",
      "Score: 0.33, Complete: 3 Correct: 1 Wrong: 2\n",
      "Score: 0.25, Complete: 4 Correct: 1 Wrong: 3\n",
      "Score: 0.2, Complete: 5 Correct: 1 Wrong: 4\n",
      "Score: 0.33, Complete: 6 Correct: 2 Wrong: 4\n",
      "Score: 0.43, Complete: 7 Correct: 3 Wrong: 4\n",
      "Score: 0.38, Complete: 8 Correct: 3 Wrong: 5\n",
      "Score: 0.44, Complete: 9 Correct: 4 Wrong: 5\n",
      "Score: 0.4, Complete: 10 Correct: 4 Wrong: 6\n",
      "Score: 0.36, Complete: 11 Correct: 4 Wrong: 7\n",
      "Score: 0.33, Complete: 12 Correct: 4 Wrong: 8\n",
      "Score: 0.31, Complete: 13 Correct: 4 Wrong: 9\n",
      "Score: 0.36, Complete: 14 Correct: 5 Wrong: 9\n",
      "Score: 0.4, Complete: 15 Correct: 6 Wrong: 9\n",
      "Score: 0.44, Complete: 16 Correct: 7 Wrong: 9\n",
      "Score: 0.47, Complete: 17 Correct: 8 Wrong: 9\n",
      "Score: 0.5, Complete: 18 Correct: 9 Wrong: 9\n",
      "Score: 0.53, Complete: 19 Correct: 10 Wrong: 9\n",
      "Score: 0.55, Complete: 20 Correct: 11 Wrong: 9\n",
      "Score: 0.57, Complete: 21 Correct: 12 Wrong: 9\n",
      "Score: 0.59, Complete: 22 Correct: 13 Wrong: 9\n",
      "Score: 0.61, Complete: 23 Correct: 14 Wrong: 9\n",
      "Score: 0.62, Complete: 24 Correct: 15 Wrong: 9\n",
      "Score: 0.6, Complete: 25 Correct: 15 Wrong: 10\n",
      "Score: 0.58, Complete: 26 Correct: 15 Wrong: 11\n",
      "Score: 0.59, Complete: 27 Correct: 16 Wrong: 11\n",
      "Score: 0.61, Complete: 28 Correct: 17 Wrong: 11\n",
      "Score: 0.62, Complete: 29 Correct: 18 Wrong: 11\n",
      "Score: 0.63, Complete: 30 Correct: 19 Wrong: 11\n",
      "Score: 0.65, Complete: 31 Correct: 20 Wrong: 11\n",
      "Score: 0.66, Complete: 32 Correct: 21 Wrong: 11\n",
      "Score: 0.64, Complete: 33 Correct: 21 Wrong: 12\n",
      "Score: 0.65, Complete: 34 Correct: 22 Wrong: 12\n",
      "Score: 0.66, Complete: 35 Correct: 23 Wrong: 12\n",
      "Score: 0.67, Complete: 36 Correct: 24 Wrong: 12\n",
      "Score: 0.68, Complete: 37 Correct: 25 Wrong: 12\n",
      "Score: 0.68, Complete: 38 Correct: 26 Wrong: 12\n",
      "Score: 0.69, Complete: 39 Correct: 27 Wrong: 12\n",
      "Score: 0.68, Complete: 40 Correct: 27 Wrong: 13\n",
      "Score: 0.68, Complete: 41 Correct: 28 Wrong: 13\n",
      "Score: 0.69, Complete: 42 Correct: 29 Wrong: 13\n",
      "Score: 0.67, Complete: 43 Correct: 29 Wrong: 14\n",
      "Score: 0.68, Complete: 44 Correct: 30 Wrong: 14\n",
      "Score: 0.69, Complete: 45 Correct: 31 Wrong: 14\n",
      "Score: 0.7, Complete: 46 Correct: 32 Wrong: 14\n",
      "Score: 0.7, Complete: 47 Correct: 33 Wrong: 14\n",
      "Score: 0.71, Complete: 48 Correct: 34 Wrong: 14\n",
      "Score: 0.69, Complete: 49 Correct: 34 Wrong: 15\n",
      "Score: 0.7, Complete: 50 Correct: 35 Wrong: 15\n",
      "Score: 0.71, Complete: 51 Correct: 36 Wrong: 15\n",
      "Score: 0.69, Complete: 52 Correct: 36 Wrong: 16\n",
      "Score: 0.7, Complete: 53 Correct: 37 Wrong: 16\n",
      "Score: 0.69, Complete: 54 Correct: 37 Wrong: 17\n",
      "Score: 0.67, Complete: 55 Correct: 37 Wrong: 18\n",
      "Score: 0.68, Complete: 56 Correct: 38 Wrong: 18\n",
      "Score: 0.68, Complete: 57 Correct: 39 Wrong: 18\n",
      "Score: 0.69, Complete: 58 Correct: 40 Wrong: 18\n",
      "Score: 0.69, Complete: 59 Correct: 41 Wrong: 18\n",
      "Score: 0.68, Complete: 60 Correct: 41 Wrong: 19\n",
      "Score: 0.69, Complete: 61 Correct: 42 Wrong: 19\n",
      "Score: 0.69, Complete: 62 Correct: 43 Wrong: 19\n",
      "Score: 0.68, Complete: 63 Correct: 43 Wrong: 20\n",
      "Score: 0.69, Complete: 64 Correct: 44 Wrong: 20\n",
      "Score: 0.69, Complete: 65 Correct: 45 Wrong: 20\n",
      "Score: 0.68, Complete: 66 Correct: 45 Wrong: 21\n",
      "Score: 0.69, Complete: 67 Correct: 46 Wrong: 21\n",
      "Score: 0.68, Complete: 68 Correct: 46 Wrong: 22\n",
      "Score: 0.68, Complete: 69 Correct: 47 Wrong: 22\n",
      "Score: 0.69, Complete: 70 Correct: 48 Wrong: 22\n",
      "Score: 0.69, Complete: 71 Correct: 49 Wrong: 22\n",
      "Score: 0.69, Complete: 72 Correct: 50 Wrong: 22\n",
      "Score: 0.68, Complete: 73 Correct: 50 Wrong: 23\n",
      "Score: 0.69, Complete: 74 Correct: 51 Wrong: 23\n",
      "Score: 0.68, Complete: 75 Correct: 51 Wrong: 24\n",
      "Score: 0.67, Complete: 76 Correct: 51 Wrong: 25\n",
      "Score: 0.66, Complete: 77 Correct: 51 Wrong: 26\n",
      "Score: 0.67, Complete: 78 Correct: 52 Wrong: 26\n",
      "Score: 0.66, Complete: 79 Correct: 52 Wrong: 27\n",
      "Score: 0.66, Complete: 80 Correct: 53 Wrong: 27\n",
      "Score: 0.67, Complete: 81 Correct: 54 Wrong: 27\n",
      "Score: 0.67, Complete: 82 Correct: 55 Wrong: 27\n",
      "Score: 0.67, Complete: 83 Correct: 56 Wrong: 27\n",
      "Score: 0.68, Complete: 84 Correct: 57 Wrong: 27\n",
      "Score: 0.68, Complete: 85 Correct: 58 Wrong: 27\n",
      "Score: 0.67, Complete: 86 Correct: 58 Wrong: 28\n",
      "Score: 0.68, Complete: 87 Correct: 59 Wrong: 28\n",
      "Score: 0.67, Complete: 88 Correct: 59 Wrong: 29\n",
      "Score: 0.66, Complete: 89 Correct: 59 Wrong: 30\n",
      "Score: 0.66, Complete: 90 Correct: 59 Wrong: 31\n",
      "Score: 0.65, Complete: 91 Correct: 59 Wrong: 32\n",
      "Score: 0.64, Complete: 92 Correct: 59 Wrong: 33\n",
      "Score: 0.63, Complete: 93 Correct: 59 Wrong: 34\n",
      "Score: 0.63, Complete: 94 Correct: 59 Wrong: 35\n",
      "Score: 0.62, Complete: 95 Correct: 59 Wrong: 36\n",
      "Score: 0.61, Complete: 96 Correct: 59 Wrong: 37\n",
      "Score: 0.62, Complete: 97 Correct: 60 Wrong: 37\n",
      "Score: 0.62, Complete: 98 Correct: 61 Wrong: 37\n",
      "Score: 0.63, Complete: 99 Correct: 62 Wrong: 37\n",
      "Score: 0.62, Complete: 100 Correct: 62 Wrong: 38\n",
      "Score: 0.62, Complete: 101 Correct: 63 Wrong: 38\n",
      "Score: 0.63, Complete: 102 Correct: 64 Wrong: 38\n",
      "Score: 0.63, Complete: 103 Correct: 65 Wrong: 38\n",
      "Score: 0.62, Complete: 104 Correct: 65 Wrong: 39\n",
      "Score: 0.62, Complete: 105 Correct: 65 Wrong: 40\n",
      "Score: 0.61, Complete: 106 Correct: 65 Wrong: 41\n",
      "Score: 0.62, Complete: 107 Correct: 66 Wrong: 41\n",
      "Score: 0.62, Complete: 108 Correct: 67 Wrong: 41\n",
      "Score: 0.62, Complete: 109 Correct: 68 Wrong: 41\n",
      "Score: 0.63, Complete: 110 Correct: 69 Wrong: 41\n",
      "Score: 0.63, Complete: 111 Correct: 70 Wrong: 41\n",
      "Score: 0.63, Complete: 112 Correct: 71 Wrong: 41\n",
      "Score: 0.63, Complete: 113 Correct: 71 Wrong: 42\n",
      "Score: 0.62, Complete: 114 Correct: 71 Wrong: 43\n",
      "Score: 0.63, Complete: 115 Correct: 72 Wrong: 43\n",
      "Score: 0.62, Complete: 116 Correct: 72 Wrong: 44\n",
      "Score: 0.62, Complete: 117 Correct: 73 Wrong: 44\n",
      "Score: 0.62, Complete: 118 Correct: 73 Wrong: 45\n",
      "Score: 0.62, Complete: 119 Correct: 74 Wrong: 45\n",
      "Score: 0.62, Complete: 120 Correct: 75 Wrong: 45\n",
      "Score: 0.62, Complete: 121 Correct: 75 Wrong: 46\n",
      "Score: 0.62, Complete: 122 Correct: 76 Wrong: 46\n",
      "Score: 0.63, Complete: 123 Correct: 77 Wrong: 46\n"
     ]
    }
   ],
   "source": [
    "\n",
    "for row in dev.iterrows():\n",
    "\n",
    "    if row[0] in devResults:\n",
    "        continue\n",
    "\n",
    "    q1 = row[1][\"context-1\"]\n",
    "    q2 = row[1][\"context-2\"]\n",
    "    target = row[1][\"target\"]\n",
    "    actual = row[1][\"label\"]\n",
    "    \n",
    "    pos = row[1][\"pos\"]\n",
    "\n",
    "    output = testRow(row)\n",
    "    \n",
    "    myResults = {}\n",
    "    myResults[\"q1\"] = q1\n",
    "    myResults[\"q2\"] = q2\n",
    "\n",
    "    myResults[\"pos\"] = row[1][\"pos\"]\n",
    "\n",
    "    myResults[\"target\"] = target\n",
    "\n",
    "    myResults[\"output\"] = output\n",
    "\n",
    "    myResults[\"actual\"] = actual\n",
    "    devResults[row[0]] = myResults\n",
    "    complete +=1\n",
    "    if actual == \"T\":\n",
    "        if output['Similar']:\n",
    "            correct += 1\n",
    "    if actual == \"F\":\n",
    "        if not output['Similar']:\n",
    "            correct += 1\n",
    "\n",
    "    pct = correct/complete\n",
    "    pct = round(pct, 2)\n",
    "\n",
    "    print (\"Score: {}, Complete: {} Correct: {} Wrong: {}\".format(pct, complete, correct, complete-correct))\n",
    "    with open('claude-v1-0shot-imaginary.json', 'w') as f:\n",
    "        json.dump(devResults, f)\n"
   ]
  },
  {
   "cell_type": "code",
   "execution_count": 14,
   "id": "8cd76e65",
   "metadata": {},
   "outputs": [],
   "source": [
    "with open('turbo-code-0shot-imaginary.json', 'w') as f:\n",
    "    json.dump(devResults, f)\n"
   ]
  },
  {
   "cell_type": "code",
   "execution_count": null,
   "id": "bcbf8037",
   "metadata": {},
   "outputs": [],
   "source": []
  }
 ],
 "metadata": {
  "kernelspec": {
   "display_name": "venv",
   "language": "python",
   "name": "python3"
  },
  "language_info": {
   "codemirror_mode": {
    "name": "ipython",
    "version": 3
   },
   "file_extension": ".py",
   "mimetype": "text/x-python",
   "name": "python",
   "nbconvert_exporter": "python",
   "pygments_lexer": "ipython3",
   "version": "3.8.5"
  },
  "vscode": {
   "interpreter": {
    "hash": "c735a6024e2df8b2c383589304813f5c39729bfd28a4c8f38c29181a5cd583ca"
   }
  }
 },
 "nbformat": 4,
 "nbformat_minor": 5
}
