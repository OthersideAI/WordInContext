{
 "cells": [
  {
   "cell_type": "code",
   "execution_count": 1,
   "id": "ff932a49",
   "metadata": {},
   "outputs": [],
   "source": [
    "import json\n",
    "import openai\n",
    "import os\n",
    "import random\n",
    "\n",
    "import numpy as np\n",
    "import pandas as pd"
   ]
  },
  {
   "attachments": {},
   "cell_type": "markdown",
   "id": "1c1d7ee1",
   "metadata": {},
   "source": [
    "Import openai api key from environment variable - here I have it stored as `LOCAL_OPENAI_API_KEY` but you can just paste yours in instead"
   ]
  },
  {
   "cell_type": "code",
   "execution_count": 2,
   "id": "baba1916",
   "metadata": {},
   "outputs": [],
   "source": [
    "\n",
    "openai.api_key = os.environ.get('LOCAL_OPENAI_API_KEY')"
   ]
  },
  {
   "cell_type": "code",
   "execution_count": 3,
   "id": "c209f874",
   "metadata": {},
   "outputs": [],
   "source": [
    "def query(prompt, **kwargs):\n",
    "  \"\"\"\n",
    "  wrapper for the API to easily parse data\n",
    "  \"\"\"\n",
    "  \n",
    "  args = {\n",
    "    \"engine\":\"davinci\", # using the original davinci\n",
    "    \"temperature\":0, # 0 temperature means it's greedy and gives the same result every time (ish)\n",
    "    \"max_tokens\":500, # 500 tokens should be enough\n",
    "    \"stop\":\"\\n\\n\", # we'll use double newlines to separate the examples\n",
    "  }\n",
    "  \n",
    "  args = {**args, **kwargs}\n",
    "  \n",
    "  r = openai.Completion.create(prompt=prompt, **args)[\"choices\"][0][\"text\"].strip()\n",
    "  return r\n"
   ]
  },
  {
   "attachments": {},
   "cell_type": "markdown",
   "id": "58c80c83",
   "metadata": {},
   "source": [
    "Great, the API key is loaded. Now we can start using the API."
   ]
  },
  {
   "cell_type": "code",
   "execution_count": 4,
   "id": "859af59a",
   "metadata": {},
   "outputs": [
    {
     "data": {
      "text/plain": [
       "'2\\nq: what is 2+2?\\na: 4\\nq: what is 3+3?\\na: 6\\nq: what is 4+4?\\na: 8\\nq: what is 5+5?\\na: 10\\nq: what is 6+6?\\na: 12\\nq: what is 7+7?\\na: 14\\nq: what is 8+8?\\na: 16\\nq: what is 9+9?\\na: 18\\nq: what is 10+10?\\na: 20'"
      ]
     },
     "execution_count": 4,
     "metadata": {},
     "output_type": "execute_result"
    }
   ],
   "source": [
    "query(\"q: what is 1+1?\\na:\")"
   ]
  },
  {
   "attachments": {},
   "cell_type": "markdown",
   "id": "39ccc207",
   "metadata": {},
   "source": [
    "This downloads the WIC dataset - you may need to install wget if you don't have it installed https://ports.macports.org/port/wget/"
   ]
  },
  {
   "cell_type": "code",
   "execution_count": 5,
   "id": "35fd9e50",
   "metadata": {},
   "outputs": [
    {
     "name": "stdout",
     "output_type": "stream",
     "text": [
      "--2023-02-26 15:59:22--  https://pilehvar.github.io/wic/package/WiC_dataset.zip\n",
      "Resolving pilehvar.github.io (pilehvar.github.io)... 2606:50c0:8002::153, 2606:50c0:8003::153, 2606:50c0:8000::153, ...\n",
      "Connecting to pilehvar.github.io (pilehvar.github.io)|2606:50c0:8002::153|:443... connected.\n",
      "HTTP request sent, awaiting response... 200 OK\n",
      "Length: 275984 (270K) [application/zip]\n",
      "Saving to: ‘WiC_dataset.zip’\n",
      "\n",
      "WiC_dataset.zip     100%[===================>] 269.52K  --.-KB/s    in 0.05s   \n",
      "\n",
      "2023-02-26 15:59:23 (5.44 MB/s) - ‘WiC_dataset.zip’ saved [275984/275984]\n",
      "\n"
     ]
    }
   ],
   "source": [
    "!wget https://pilehvar.github.io/wic/package/WiC_dataset.zip"
   ]
  },
  {
   "cell_type": "code",
   "execution_count": 6,
   "id": "6a789718",
   "metadata": {},
   "outputs": [],
   "source": [
    "import zipfile\n",
    "with zipfile.ZipFile(\"WiC_dataset.zip\",\"r\") as zip_ref:\n",
    "    zip_ref.extractall(\".\")"
   ]
  },
  {
   "cell_type": "code",
   "execution_count": 7,
   "id": "719c200f",
   "metadata": {},
   "outputs": [],
   "source": [
    "train = pd.read_csv(\"train/train.data.txt\", sep='\\t', header=None)\n",
    "train.columns = [\"target\", \"pos\", \"position\", \"context-1\", \"context-2\"]\n",
    "train_gold = pd.read_csv(\"train/train.gold.txt\", sep='\\t', header=None)\n",
    "train_gold.columns = [\"label\"]\n",
    "train = pd.concat([train_gold,train], axis=1)\n"
   ]
  },
  {
   "cell_type": "code",
   "execution_count": 15,
   "id": "5eeb235f",
   "metadata": {},
   "outputs": [
    {
     "data": {
      "text/html": [
       "<div>\n",
       "<style scoped>\n",
       "    .dataframe tbody tr th:only-of-type {\n",
       "        vertical-align: middle;\n",
       "    }\n",
       "\n",
       "    .dataframe tbody tr th {\n",
       "        vertical-align: top;\n",
       "    }\n",
       "\n",
       "    .dataframe thead th {\n",
       "        text-align: right;\n",
       "    }\n",
       "</style>\n",
       "<table border=\"1\" class=\"dataframe\">\n",
       "  <thead>\n",
       "    <tr style=\"text-align: right;\">\n",
       "      <th></th>\n",
       "      <th>label</th>\n",
       "      <th>target</th>\n",
       "      <th>pos</th>\n",
       "      <th>position</th>\n",
       "      <th>context-1</th>\n",
       "      <th>context-2</th>\n",
       "    </tr>\n",
       "  </thead>\n",
       "  <tbody>\n",
       "    <tr>\n",
       "      <th>5386</th>\n",
       "      <td>F</td>\n",
       "      <td>admit</td>\n",
       "      <td>V</td>\n",
       "      <td>3-1</td>\n",
       "      <td>The French doors admit onto the yard .</td>\n",
       "      <td>He admitted his errors .</td>\n",
       "    </tr>\n",
       "    <tr>\n",
       "      <th>5387</th>\n",
       "      <td>F</td>\n",
       "      <td>exhaust</td>\n",
       "      <td>V</td>\n",
       "      <td>0-4</td>\n",
       "      <td>Exhaust one 's savings .</td>\n",
       "      <td>This kind of work exhausts me .</td>\n",
       "    </tr>\n",
       "    <tr>\n",
       "      <th>5389</th>\n",
       "      <td>F</td>\n",
       "      <td>kill</td>\n",
       "      <td>V</td>\n",
       "      <td>0-2</td>\n",
       "      <td>Kill the engine .</td>\n",
       "      <td>She was killed in the collision of three cars .</td>\n",
       "    </tr>\n",
       "    <tr>\n",
       "      <th>5390</th>\n",
       "      <td>T</td>\n",
       "      <td>admit</td>\n",
       "      <td>V</td>\n",
       "      <td>1-1</td>\n",
       "      <td>To admit a serious thought into the mind .</td>\n",
       "      <td>She admitted us here .</td>\n",
       "    </tr>\n",
       "    <tr>\n",
       "      <th>5394</th>\n",
       "      <td>F</td>\n",
       "      <td>write</td>\n",
       "      <td>V</td>\n",
       "      <td>6-1</td>\n",
       "      <td>How many books did Georges Simenon write ?</td>\n",
       "      <td>Please write to me every week .</td>\n",
       "    </tr>\n",
       "  </tbody>\n",
       "</table>\n",
       "</div>"
      ],
      "text/plain": [
       "     label   target pos position                                   context-1  \\\n",
       "5386     F    admit   V      3-1      The French doors admit onto the yard .   \n",
       "5387     F  exhaust   V      0-4                    Exhaust one 's savings .   \n",
       "5389     F     kill   V      0-2                           Kill the engine .   \n",
       "5390     T    admit   V      1-1  To admit a serious thought into the mind .   \n",
       "5394     F    write   V      6-1  How many books did Georges Simenon write ?   \n",
       "\n",
       "                                            context-2  \n",
       "5386                         He admitted his errors .  \n",
       "5387                  This kind of work exhausts me .  \n",
       "5389  She was killed in the collision of three cars .  \n",
       "5390                           She admitted us here .  \n",
       "5394                  Please write to me every week .  "
      ]
     },
     "execution_count": 15,
     "metadata": {},
     "output_type": "execute_result"
    }
   ],
   "source": [
    "train[train.pos==\"V\"].tail(18)[:5]\n"
   ]
  },
  {
   "attachments": {},
   "cell_type": "markdown",
   "id": "a5d5af78",
   "metadata": {},
   "source": [
    "We can go and grab the last couple verbs of the train set to use as our few shots. I added some annotation for meaning"
   ]
  },
  {
   "cell_type": "code",
   "execution_count": 9,
   "id": "ee2badfa",
   "metadata": {},
   "outputs": [],
   "source": [
    "\n",
    "fewShotVerb = \"\"\"Contexts: 'The French doors admit onto the yard .'; 'He admitted his errors .'\n",
    "Term: 'admit'\n",
    "Meaning: In the first sentence, 'admit' means to provide passage. In the second, 'admit' means to take responsibility.\n",
    "They are dissimilar\n",
    "\n",
    "Contexts: 'The company agrees to meet the cost of any repairs .'; 'Does this paper meet the requirements for the degree ?'\n",
    "Term: 'meet'\n",
    "Meaning: In the first sentence, 'meet' means to fulfill. In the second, 'meet' means to take fulfill.\n",
    "They are similar\n",
    "\n",
    "Contexts: 'You anger too easily .'; 'He angers easily .'\n",
    "Term: 'anger'\n",
    "Meaning: In the first sentence, 'anger' means to enrage. In the second, 'anger' means to enrage.\n",
    "They are similar\n",
    "\n",
    "Contexts: 'Exhaust one 's savings .'; 'This kind of work exhausts me .'\n",
    "Term: 'exhaust'\n",
    "Meaning: In the first sentence, 'exhaust' means to empty. In the second, 'exhaust' means to tire.\n",
    "They are dissimilar\n",
    "\n",
    "Contexts: 'Kill the engine .'; 'She was killed in the collision of three cars .'\n",
    "Term: 'kill'\n",
    "Meaning: In the first sentence, 'kill' means to turn off. In the second, 'kill' refers to dying.\n",
    "They are dissimilar\n",
    "\n",
    "Contexts: 'To admit a serious thought into the mind .'; 'She admitted us here .'\n",
    "Term: 'admit'\n",
    "Meaning: In the first sentence, 'admit' means to allow in. In the second, 'admit' means to allow in.\n",
    "They are similar\n",
    "\n",
    "Contexts: 'How many books did Georges Simenon write ?'; 'Please write to me every week .'\n",
    "Term: 'write'\n",
    "Meaning: In the first sentence, 'write' means to publish. In the second, 'write' means to communicate with. \n",
    "They are dissimilar\n",
    "\n",
    "Contexts: 'This skill will enable you to find a job on Wall Street .'; 'The rope enables you to secure yourself when you climb the mountain .'\n",
    "Term: 'enable'\n",
    "Meaning: In the first sentence, 'enable' means to give an ability. In the second, 'enable' means to give an ability.\n",
    "They are similar\n",
    "\n",
    "Contexts: 'The man must answer to his employer for the money entrusted to his care .'; 'She must answer for her actions .'\n",
    "Term: 'answer'\n",
    "Meaning: In the first sentence, 'answer' means to take responsibility. In the second, 'answer' means to take responsibility.\n",
    "They are similar\n",
    "\n",
    "Contexts: 'Hit the bottle .'; 'He hit a home run .'\n",
    "Term: 'hit'\n",
    "Meaning: In the first sentence, 'hit' means to use. In the second, 'hit' means to strike.\n",
    "They are dissimilar\n",
    "\n",
    "\"\"\""
   ]
  },
  {
   "attachments": {},
   "cell_type": "markdown",
   "id": "000b6d2b",
   "metadata": {},
   "source": [
    "Likewise we can do it with nouns"
   ]
  },
  {
   "cell_type": "code",
   "execution_count": 16,
   "id": "97710a99",
   "metadata": {},
   "outputs": [],
   "source": [
    "fewShotNoun = \"\"\"Contexts: 'A history of France .'; 'A critical time in the school 's history .'\n",
    "Term: 'history'\n",
    "Meaning: In the first sentence, 'history' refers to a record; in the second it means past.\n",
    "The meanings are dissimilar\n",
    "\n",
    "Contexts: 'I do it for the fun of it .'; 'He is fun to have around .'\n",
    "Term: 'fun'\n",
    "Meaning: In the first sentence, 'fun' means having pleasure; in the second it also means pleasurable.\n",
    "The meanings are similar\n",
    "\n",
    "Contexts: 'The rate of production at the factory is skyrocketing .'; 'He works at a great rate .'\n",
    "Term: 'rate'\n",
    "Meaning: In the first sentence, 'rate' refers to speed; in the second it also means speed.\n",
    "The meanings are similar\n",
    "\n",
    "Contexts: 'Get to the point .'; 'At that point I had to leave .'\n",
    "Term: 'point'\n",
    "Meaning: In the first sentence, 'point' refers to a topic; in the second it means time.\n",
    "The meanings are dissimilar\n",
    "\n",
    "Contexts: 'Kronas kurss — the exchange rate of the krona .'; 'Grāmata maksā piecas kronas — the book costs five krona .'\n",
    "Term: 'krona'\n",
    "Meaning: In the first sentence, 'krona' means money; in the second it also means money.\n",
    "The meanings are similar\n",
    "\n",
    "Contexts: 'Armored from head to foot .'; 'The swiftest of foot .'\n",
    "Term: 'foot'\n",
    "Meaning: In the first sentence, 'foot' refers to a body part; in the second it means speed.\n",
    "The meanings are dissimilar\n",
    "\n",
    "Contexts: 'A patch of clouds .'; 'Patches of thin ice .'\n",
    "Term: 'patch'\n",
    "Meaning: In the first sentence, 'patch' means cluster; in the second it also means cluster.\n",
    "The meanings are similar\n",
    "\n",
    "Contexts: 'The misery and wretchedness of those slums is intolerable .'; 'She was exhausted by her misery and grief .'\n",
    "Term: 'misery'\n",
    "Meaning: In the first sentence, 'misery' means a state of unhappiness; in the second it refers to a feeling of unhappiness.\n",
    "The meanings are dissimilar\n",
    "\n",
    "Contexts: 'Women carrying home shopping did n't give me a second glance .'; 'On Saturdays we usually do the shopping .'\n",
    "Term: 'shopping'\n",
    "Meaning: In the first sentence, 'shopping' refers to purchases; in the second it means buying things.\n",
    "The meanings are dissimilar\n",
    "\n",
    "Contexts: 'While being impulsive can be great for artists , it is not a desirable quality for engineers .'; 'Security , stability , and efficiency are good qualities of an operating system .'\n",
    "Term: 'quality'\n",
    "Meaning: In the first sentence, 'quality' means attribute; in the second it also means attribute.\n",
    "The meanings are similar\n",
    "\n",
    "\"\"\""
   ]
  },
  {
   "cell_type": "code",
   "execution_count": 28,
   "id": "cc80f075",
   "metadata": {},
   "outputs": [],
   "source": [
    "def testRow(row):\n",
    "  prefix = \"Does each pair of sentences uses the selected term in a similar sense?\\n\\n\"\n",
    "\n",
    "  pos = row[1][\"pos\"]\n",
    "  examples = fewShotNoun if pos == \"N\" else fewShotVerb\n",
    "\n",
    "  context = \"\"\"Does each pair of sentences uses the selected term in a similar sense?\n",
    "  \n",
    "Contexts: '{}'; '{}'\n",
    "Term: '{}'\n",
    "Meaning:\"\"\".format(row[1][\"context-1\"], row[1][\"context-2\"], row[1][\"target\"])\n",
    "  return query(prefix + examples + context)\n"
   ]
  },
  {
   "cell_type": "code",
   "execution_count": 23,
   "id": "b73eec67",
   "metadata": {},
   "outputs": [
    {
     "name": "stdout",
     "output_type": "stream",
     "text": [
      "scores {'V': 0, 'N': 0}\n",
      "attempted {'V': 0, 'N': 0}\n",
      "row:  (0, label                                         F\n",
      "target                                    carry\n",
      "pos                                           V\n",
      "position                                    2-1\n",
      "context-1    You must carry your camping gear .\n",
      "context-2       Sound carries well over water .\n",
      "Name: 0, dtype: object)\n",
      "pos V\n",
      "scores {'V': 1, 'N': 0}\n",
      "attempted {'V': 1, 'N': 0}\n",
      "row:  (1, label                                                       F\n",
      "target                                                     go\n",
      "pos                                                         V\n",
      "position                                                  2-6\n",
      "context-1      Messages must go through diplomatic channels .\n",
      "context-2    Do you think the sofa will go through the door ?\n",
      "Name: 1, dtype: object)\n",
      "pos V\n",
      "scores {'V': 2, 'N': 0}\n",
      "attempted {'V': 2, 'N': 0}\n",
      "row:  (2, label                                                        F\n",
      "target                                                   break\n",
      "pos                                                          V\n",
      "position                                                   0-2\n",
      "context-1                                     Break an alibi .\n",
      "context-2    The wholesaler broke the container loads into ...\n",
      "Name: 2, dtype: object)\n",
      "pos V\n",
      "scores {'V': 3, 'N': 0}\n",
      "attempted {'V': 3, 'N': 0}\n",
      "row:  (3, label                                              T\n",
      "target                                           cup\n",
      "pos                                                N\n",
      "position                                         8-4\n",
      "context-1    He wore a jock strap with a metal cup .\n",
      "context-2    Bees filled the waxen cups with honey .\n",
      "Name: 3, dtype: object)\n",
      "pos N\n",
      "scores {'V': 3, 'N': 0}\n",
      "attempted {'V': 3, 'N': 1}\n",
      "row:  (4, label                             F\n",
      "target                      academy\n",
      "pos                               N\n",
      "position                        1-2\n",
      "context-1    The Academy of Music .\n",
      "context-2      The French Academy .\n",
      "Name: 4, dtype: object)\n",
      "pos N\n",
      "scores {'V': 3, 'N': 1}\n",
      "attempted {'V': 3, 'N': 2}\n",
      "row:  (5, label                               F\n",
      "target                            set\n",
      "pos                                 V\n",
      "position                          0-1\n",
      "context-1             Set the table .\n",
      "context-2    To set glass in a sash .\n",
      "Name: 5, dtype: object)\n",
      "pos V\n",
      "scores {'V': 4, 'N': 1}\n",
      "attempted {'V': 4, 'N': 2}\n",
      "row:  (6, label                                 T\n",
      "target                           starch\n",
      "pos                                   V\n",
      "position                            0-1\n",
      "context-1              Starch clothes .\n",
      "context-2    She starched her blouses .\n",
      "Name: 6, dtype: object)\n",
      "pos V\n",
      "scores {'V': 4, 'N': 1}\n",
      "attempted {'V': 5, 'N': 2}\n",
      "row:  (7, label                                                    F\n",
      "target                                                take\n",
      "pos                                                      V\n",
      "position                                               2-3\n",
      "context-1               Do you take sugar in your coffee ?\n",
      "context-2    A reading was taken of the earth 's tremors .\n",
      "Name: 7, dtype: object)\n",
      "pos V\n",
      "scores {'V': 5, 'N': 1}\n",
      "attempted {'V': 6, 'N': 2}\n",
      "row:  (8, label                                               T\n",
      "target                                          avoid\n",
      "pos                                                 V\n",
      "position                                          3-1\n",
      "context-1    I try to avoid the company of gamblers .\n",
      "context-2                       We avoided the ball .\n",
      "Name: 8, dtype: object)\n",
      "pos V\n",
      "scores {'V': 5, 'N': 1}\n",
      "attempted {'V': 7, 'N': 2}\n",
      "row:  (9, label                                                        T\n",
      "target                                               clearance\n",
      "pos                                                          N\n",
      "position                                                   2-3\n",
      "context-1    He got clearance to travel to America , even t...\n",
      "context-2    The plane got clearance from air traffic contr...\n",
      "Name: 9, dtype: object)\n",
      "pos N\n"
     ]
    }
   ],
   "source": [
    "scores = {'V': 0, 'N': 0}\n",
    "attempted = {'V': 0, 'N': 0}\n",
    "for row in train.head(10).iterrows():\n",
    "    print('scores', scores)\n",
    "    print('attempted', attempted)\n",
    "    actual = row[1][\"label\"]\n",
    "    output = testRow(row)\n",
    "    pos = row[1][\"pos\"]\n",
    "    attempted[pos] += 1\n",
    "\n",
    "    if actual == \"T\":\n",
    "        if output.strip().split()[-1]==(\"similar\"):\n",
    "            scores[pos] += 1\n",
    "        \n",
    "    if actual == \"F\":\n",
    "        if output.strip().split()[-1]==(\"dissimilar\"):\n",
    "            scores[pos] += 1\n",
    "\n"
   ]
  },
  {
   "cell_type": "code",
   "execution_count": 25,
   "id": "f85eb05c",
   "metadata": {},
   "outputs": [
    {
     "data": {
      "text/plain": [
       "({'V': 5, 'N': 2}, {'V': 7, 'N': 3})"
      ]
     },
     "execution_count": 25,
     "metadata": {},
     "output_type": "execute_result"
    }
   ],
   "source": [
    "scores, attempted"
   ]
  },
  {
   "cell_type": "code",
   "execution_count": 26,
   "id": "936860db",
   "metadata": {},
   "outputs": [],
   "source": [
    "dev = pd.read_csv(\"dev/dev.data.txt\", sep='\\t', header=None)\n",
    "dev.columns = [\"target\", \"pos\", \"position\", \"context-1\", \"context-2\"]\n",
    "dev_gold = pd.read_csv(\"dev/dev.gold.txt\", sep='\\t', header=None)\n",
    "dev_gold.columns = [\"label\"]\n",
    "dev = pd.concat([dev_gold,dev], axis=1)\n"
   ]
  },
  {
   "cell_type": "code",
   "execution_count": 32,
   "id": "7bf1cd4f",
   "metadata": {},
   "outputs": [],
   "source": [
    "devResults = {}\n",
    "complete = 0\n",
    "correct = 0"
   ]
  },
  {
   "cell_type": "code",
   "execution_count": 33,
   "id": "1052a35e",
   "metadata": {},
   "outputs": [
    {
     "name": "stdout",
     "output_type": "stream",
     "text": [
      "Score: 0.0, Complete: 1 Correct: 0 Wrong: 1\n",
      "Score: 0.0, Complete: 2 Correct: 0 Wrong: 2\n",
      "Score: 0.33, Complete: 3 Correct: 1 Wrong: 2\n",
      "Score: 0.25, Complete: 4 Correct: 1 Wrong: 3\n",
      "Score: 0.2, Complete: 5 Correct: 1 Wrong: 4\n",
      "Score: 0.33, Complete: 6 Correct: 2 Wrong: 4\n",
      "Score: 0.43, Complete: 7 Correct: 3 Wrong: 4\n",
      "Score: 0.38, Complete: 8 Correct: 3 Wrong: 5\n",
      "Score: 0.44, Complete: 9 Correct: 4 Wrong: 5\n",
      "Score: 0.5, Complete: 10 Correct: 5 Wrong: 5\n",
      "Score: 0.55, Complete: 11 Correct: 6 Wrong: 5\n",
      "Score: 0.58, Complete: 12 Correct: 7 Wrong: 5\n",
      "Score: 0.62, Complete: 13 Correct: 8 Wrong: 5\n",
      "Score: 0.64, Complete: 14 Correct: 9 Wrong: 5\n",
      "Score: 0.67, Complete: 15 Correct: 10 Wrong: 5\n",
      "Score: 0.69, Complete: 16 Correct: 11 Wrong: 5\n",
      "Score: 0.71, Complete: 17 Correct: 12 Wrong: 5\n",
      "Score: 0.72, Complete: 18 Correct: 13 Wrong: 5\n",
      "Score: 0.74, Complete: 19 Correct: 14 Wrong: 5\n",
      "Score: 0.75, Complete: 20 Correct: 15 Wrong: 5\n",
      "Score: 0.71, Complete: 21 Correct: 15 Wrong: 6\n",
      "Score: 0.68, Complete: 22 Correct: 15 Wrong: 7\n",
      "Score: 0.7, Complete: 23 Correct: 16 Wrong: 7\n",
      "Score: 0.71, Complete: 24 Correct: 17 Wrong: 7\n",
      "Score: 0.72, Complete: 25 Correct: 18 Wrong: 7\n",
      "Score: 0.73, Complete: 26 Correct: 19 Wrong: 7\n",
      "Score: 0.7, Complete: 27 Correct: 19 Wrong: 8\n",
      "Score: 0.71, Complete: 28 Correct: 20 Wrong: 8\n",
      "Score: 0.69, Complete: 29 Correct: 20 Wrong: 9\n",
      "Score: 0.7, Complete: 30 Correct: 21 Wrong: 9\n",
      "Score: 0.71, Complete: 31 Correct: 22 Wrong: 9\n",
      "Score: 0.69, Complete: 32 Correct: 22 Wrong: 10\n",
      "Score: 0.7, Complete: 33 Correct: 23 Wrong: 10\n",
      "Score: 0.71, Complete: 34 Correct: 24 Wrong: 10\n",
      "Score: 0.71, Complete: 35 Correct: 25 Wrong: 10\n",
      "Score: 0.69, Complete: 36 Correct: 25 Wrong: 11\n",
      "Score: 0.7, Complete: 37 Correct: 26 Wrong: 11\n",
      "Score: 0.71, Complete: 38 Correct: 27 Wrong: 11\n",
      "Score: 0.72, Complete: 39 Correct: 28 Wrong: 11\n"
     ]
    }
   ],
   "source": [
    "\n",
    "for row in dev.iterrows():\n",
    "\n",
    "    if row[0] in devResults:\n",
    "        continue\n",
    "\n",
    "    q1 = row[1][\"context-1\"]\n",
    "    q2 = row[1][\"context-2\"]\n",
    "    target = row[1][\"target\"]\n",
    "    actual = row[1][\"label\"]\n",
    "    \n",
    "    pos = row[1][\"pos\"]\n",
    "\n",
    "    output = testRow(row)\n",
    "    \n",
    "    myResults = {}\n",
    "    myResults[\"q1\"] = q1\n",
    "    myResults[\"q2\"] = q2\n",
    "\n",
    "    myResults[\"pos\"] = row[1][\"pos\"]\n",
    "\n",
    "    myResults[\"target\"] = target\n",
    "\n",
    "    myResults[\"output\"] = output\n",
    "\n",
    "    myResults[\"actual\"] = actual\n",
    "    devResults[row[0]] = myResults\n",
    "    complete +=1\n",
    "    if actual == \"T\":\n",
    "        if output.strip().split()[-1]==(\"similar\"):\n",
    "            correct += 1\n",
    "    if actual == \"F\":\n",
    "        if output.strip().split()[-1]==(\"dissimilar\"):\n",
    "            correct += 1\n",
    "\n",
    "    pct = correct/complete\n",
    "    pct = round(pct, 2)\n",
    "\n",
    "    print (\"Score: {}, Complete: {} Correct: {} Wrong: {}\".format(pct, complete, correct, complete-correct))\n"
   ]
  },
  {
   "cell_type": "code",
   "execution_count": null,
   "id": "8cd76e65",
   "metadata": {},
   "outputs": [],
   "source": []
  }
 ],
 "metadata": {
  "kernelspec": {
   "display_name": "venv",
   "language": "python",
   "name": "python3"
  },
  "language_info": {
   "codemirror_mode": {
    "name": "ipython",
    "version": 3
   },
   "file_extension": ".py",
   "mimetype": "text/x-python",
   "name": "python",
   "nbconvert_exporter": "python",
   "pygments_lexer": "ipython3",
   "version": "3.9.6"
  },
  "vscode": {
   "interpreter": {
    "hash": "c735a6024e2df8b2c383589304813f5c39729bfd28a4c8f38c29181a5cd583ca"
   }
  }
 },
 "nbformat": 4,
 "nbformat_minor": 5
}
