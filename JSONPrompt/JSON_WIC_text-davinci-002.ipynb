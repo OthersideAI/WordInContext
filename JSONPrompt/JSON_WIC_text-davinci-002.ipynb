{
 "cells": [
  {
   "cell_type": "code",
   "execution_count": 1,
   "id": "ff932a49",
   "metadata": {},
   "outputs": [],
   "source": [
    "import json\n",
    "import openai\n",
    "import os\n",
    "import random\n",
    "\n",
    "import numpy as np\n",
    "import pandas as pd"
   ]
  },
  {
   "attachments": {},
   "cell_type": "markdown",
   "id": "1c1d7ee1",
   "metadata": {},
   "source": [
    "Import openai api key from environment variable - here I have it stored as `LOCAL_OPENAI_API_KEY` but you can just paste yours in instead"
   ]
  },
  {
   "cell_type": "code",
   "execution_count": 2,
   "id": "baba1916",
   "metadata": {},
   "outputs": [],
   "source": [
    "\n",
    "openai.api_key = os.environ.get('LOCAL_OPENAI_API_KEY')"
   ]
  },
  {
   "cell_type": "code",
   "execution_count": 3,
   "id": "c209f874",
   "metadata": {},
   "outputs": [],
   "source": [
    "def query(prompt, **kwargs):\n",
    "  \"\"\"\n",
    "  wrapper for the API to easily parse data\n",
    "  \"\"\"\n",
    "  \n",
    "  args = {\n",
    "    \"engine\":\"text-davinci-002\", # using the original davinci\n",
    "    \"temperature\":0, # 0 temperature means it's greedy and gives the same result every time (ish)\n",
    "    \"max_tokens\":500, # 500 tokens should be enough\n",
    "    \"stop\":\"\\n\\n\", # we'll use double newlines to separate the examples\n",
    "  }\n",
    "  \n",
    "  args = {**args, **kwargs}\n",
    "  \n",
    "  r = openai.Completion.create(prompt=prompt, **args)[\"choices\"][0][\"text\"].strip()\n",
    "  return r\n"
   ]
  },
  {
   "attachments": {},
   "cell_type": "markdown",
   "id": "58c80c83",
   "metadata": {},
   "source": [
    "Great, the API key is loaded. Now we can start using the API."
   ]
  },
  {
   "cell_type": "code",
   "execution_count": 4,
   "id": "859af59a",
   "metadata": {},
   "outputs": [
    {
     "data": {
      "text/plain": [
       "'2'"
      ]
     },
     "execution_count": 4,
     "metadata": {},
     "output_type": "execute_result"
    }
   ],
   "source": [
    "query(\"q: what is 1+1?\\na:\")"
   ]
  },
  {
   "attachments": {},
   "cell_type": "markdown",
   "id": "39ccc207",
   "metadata": {},
   "source": [
    "This downloads the WIC dataset - you may need to install wget if you don't have it installed https://ports.macports.org/port/wget/"
   ]
  },
  {
   "cell_type": "code",
   "execution_count": 5,
   "id": "35fd9e50",
   "metadata": {},
   "outputs": [
    {
     "name": "stdout",
     "output_type": "stream",
     "text": [
      "--2023-02-26 18:02:23--  https://pilehvar.github.io/wic/package/WiC_dataset.zip\n",
      "Resolving pilehvar.github.io (pilehvar.github.io)... 2606:50c0:8002::153, 2606:50c0:8000::153, 2606:50c0:8003::153, ...\n",
      "Connecting to pilehvar.github.io (pilehvar.github.io)|2606:50c0:8002::153|:443... connected.\n",
      "HTTP request sent, awaiting response... 200 OK\n",
      "Length: 275984 (270K) [application/zip]\n",
      "Saving to: ‘WiC_dataset.zip’\n",
      "\n",
      "WiC_dataset.zip     100%[===================>] 269.52K  --.-KB/s    in 0.05s   \n",
      "\n",
      "2023-02-26 18:02:23 (5.64 MB/s) - ‘WiC_dataset.zip’ saved [275984/275984]\n",
      "\n"
     ]
    }
   ],
   "source": [
    "!wget https://pilehvar.github.io/wic/package/WiC_dataset.zip"
   ]
  },
  {
   "cell_type": "code",
   "execution_count": 6,
   "id": "6a789718",
   "metadata": {},
   "outputs": [],
   "source": [
    "import zipfile\n",
    "with zipfile.ZipFile(\"WiC_dataset.zip\",\"r\") as zip_ref:\n",
    "    zip_ref.extractall(\".\")"
   ]
  },
  {
   "cell_type": "code",
   "execution_count": 4,
   "id": "719c200f",
   "metadata": {},
   "outputs": [],
   "source": [
    "train = pd.read_csv(\"train/train.data.txt\", sep='\\t', header=None)\n",
    "train.columns = [\"target\", \"pos\", \"position\", \"context-1\", \"context-2\"]\n",
    "train_gold = pd.read_csv(\"train/train.gold.txt\", sep='\\t', header=None)\n",
    "train_gold.columns = [\"label\"]\n",
    "train = pd.concat([train_gold,train], axis=1)\n"
   ]
  },
  {
   "cell_type": "code",
   "execution_count": 5,
   "id": "5eeb235f",
   "metadata": {},
   "outputs": [
    {
     "data": {
      "text/html": [
       "<div>\n",
       "<style scoped>\n",
       "    .dataframe tbody tr th:only-of-type {\n",
       "        vertical-align: middle;\n",
       "    }\n",
       "\n",
       "    .dataframe tbody tr th {\n",
       "        vertical-align: top;\n",
       "    }\n",
       "\n",
       "    .dataframe thead th {\n",
       "        text-align: right;\n",
       "    }\n",
       "</style>\n",
       "<table border=\"1\" class=\"dataframe\">\n",
       "  <thead>\n",
       "    <tr style=\"text-align: right;\">\n",
       "      <th></th>\n",
       "      <th>label</th>\n",
       "      <th>target</th>\n",
       "      <th>pos</th>\n",
       "      <th>position</th>\n",
       "      <th>context-1</th>\n",
       "      <th>context-2</th>\n",
       "    </tr>\n",
       "  </thead>\n",
       "  <tbody>\n",
       "    <tr>\n",
       "      <th>5386</th>\n",
       "      <td>F</td>\n",
       "      <td>admit</td>\n",
       "      <td>V</td>\n",
       "      <td>3-1</td>\n",
       "      <td>The French doors admit onto the yard .</td>\n",
       "      <td>He admitted his errors .</td>\n",
       "    </tr>\n",
       "    <tr>\n",
       "      <th>5387</th>\n",
       "      <td>F</td>\n",
       "      <td>exhaust</td>\n",
       "      <td>V</td>\n",
       "      <td>0-4</td>\n",
       "      <td>Exhaust one 's savings .</td>\n",
       "      <td>This kind of work exhausts me .</td>\n",
       "    </tr>\n",
       "    <tr>\n",
       "      <th>5389</th>\n",
       "      <td>F</td>\n",
       "      <td>kill</td>\n",
       "      <td>V</td>\n",
       "      <td>0-2</td>\n",
       "      <td>Kill the engine .</td>\n",
       "      <td>She was killed in the collision of three cars .</td>\n",
       "    </tr>\n",
       "    <tr>\n",
       "      <th>5390</th>\n",
       "      <td>T</td>\n",
       "      <td>admit</td>\n",
       "      <td>V</td>\n",
       "      <td>1-1</td>\n",
       "      <td>To admit a serious thought into the mind .</td>\n",
       "      <td>She admitted us here .</td>\n",
       "    </tr>\n",
       "    <tr>\n",
       "      <th>5394</th>\n",
       "      <td>F</td>\n",
       "      <td>write</td>\n",
       "      <td>V</td>\n",
       "      <td>6-1</td>\n",
       "      <td>How many books did Georges Simenon write ?</td>\n",
       "      <td>Please write to me every week .</td>\n",
       "    </tr>\n",
       "  </tbody>\n",
       "</table>\n",
       "</div>"
      ],
      "text/plain": [
       "     label   target pos position                                   context-1  \\\n",
       "5386     F    admit   V      3-1      The French doors admit onto the yard .   \n",
       "5387     F  exhaust   V      0-4                    Exhaust one 's savings .   \n",
       "5389     F     kill   V      0-2                           Kill the engine .   \n",
       "5390     T    admit   V      1-1  To admit a serious thought into the mind .   \n",
       "5394     F    write   V      6-1  How many books did Georges Simenon write ?   \n",
       "\n",
       "                                            context-2  \n",
       "5386                         He admitted his errors .  \n",
       "5387                  This kind of work exhausts me .  \n",
       "5389  She was killed in the collision of three cars .  \n",
       "5390                           She admitted us here .  \n",
       "5394                  Please write to me every week .  "
      ]
     },
     "execution_count": 5,
     "metadata": {},
     "output_type": "execute_result"
    }
   ],
   "source": [
    "train[train.pos==\"V\"].tail(18)[:5]\n"
   ]
  },
  {
   "attachments": {},
   "cell_type": "markdown",
   "id": "a5d5af78",
   "metadata": {},
   "source": [
    "We can go and grab the last couple verbs of the train set to use as our few shots. I added some annotation for meaning"
   ]
  },
  {
   "cell_type": "code",
   "execution_count": 6,
   "id": "ee2badfa",
   "metadata": {},
   "outputs": [],
   "source": [
    "\n",
    "fewShotVerb = \"\"\"{\n",
    "\"Sense_1\": \"The French doors admit onto the yard .\",\n",
    "\"Sense_2\":\"He admitted his errors .\",\n",
    "\"Term\": \"admit\",\n",
    "\"Meaning_1\": \"In the first sentence, 'admit' means to provide passage.\",\n",
    "\"Meaning_2\": \"In the second, 'admit' means to take responsibility.\",\n",
    "\"Similar\": true\n",
    "}\n",
    "\n",
    "{\n",
    "\"Sense_1\": \"The company agrees to meet the cost of any repairs .\",\n",
    "\"Sense_2\": \"Does this paper meet the requirements for the degree ?\",\n",
    "\"Term\": \"meet\",\n",
    "\"Meaning_1\": \"In the first sentence, 'meet' means to fulfill.\",\n",
    "\"Meaning_2\": \"In the second, 'meet' means to fulfill.\",\n",
    "\"Similar\": true\n",
    "}\n",
    "\n",
    "{\n",
    "\"Sense_1\": \"You anger too easily .\",\n",
    "\"Sense_2\": \"He angers easily .\",\n",
    "\"Term\": \"anger\",\n",
    "\"Meaning_1\": \"In the first sentence, 'anger' means to enrage.\",\n",
    "\"Meaning_2\": \"In the second, 'anger' means to enrage.\",\n",
    "\"Similar\": true\n",
    "}\n",
    "\n",
    "{\n",
    "\"Sense_1\": \"Exhaust one 's savings .\",\n",
    "\"Sense_2\": \"This kind of work exhausts me .\",\n",
    "\"Term\": \"exhaust\",\n",
    "\"Meaning_1\": \"In the first sentence, 'exhaust' means to empty.\",\n",
    "\"Meaning_2\": \"In the second, 'exhaust' means to tire.\",\n",
    "\"Similar\": false\n",
    "}\n",
    "\n",
    "{\n",
    "\"Sense_1\": \"Kill the engine .\",\n",
    "\"Sense_2\": \"She was killed in the collision of three cars .\",\n",
    "\"Term\": \"kill\",\n",
    "\"Meaning_1\": \"In the first sentence, 'kill' means to turn off.\",\n",
    "\"Meaning_2\": \"In the second, 'kill' refers to dying.\",\n",
    "\"Similar\": false\n",
    "}\n",
    "\n",
    "{\n",
    "\"Sense_1\": \"To admit a serious thought into the mind .\",\n",
    "\"Sense_2\": \"She admitted us here .\",\n",
    "\"Term\": \"admit\",\n",
    "\"Meaning_1\": \"In the first sentence, 'admit' means to allow in.\",\n",
    "\"Meaning_2\": \"In the second, 'admit' means to allow in.\",\n",
    "\"Similar\": true\n",
    "}\n",
    "\n",
    "{\n",
    "\"Sense_1\": \"How many books did Georges Simenon write ?\",\n",
    "\"Sense_2\": \"Please write to me every week .\",\n",
    "\"Term\": \"write\",\n",
    "\"Meaning_1\": \"In the first sentence, 'write' means to publish.\",\n",
    "\"Meaning_2\": \"In the second, 'write' means to communicate with.\",\n",
    "\"Similar\": false\n",
    "}\n",
    "\n",
    "{\n",
    "\"Sense_1\": \"This skill will enable you to find a job on Wall Street .\",\n",
    "\"Sense_2\": \"The rope enables you to secure yourself when you climb the mountain .\",\n",
    "\"Term\": \"enable\",\n",
    "\"Meaning_1\": \"In the first sentence, 'enable' means to give an ability.\",\n",
    "\"Meaning_2\": \"In the second, 'enable' means to give an ability.\",\n",
    "\"Similar\": true\n",
    "}\n",
    "\n",
    "{\n",
    "\"Sense_1\": \"The man must answer to his employer for the money entrusted to his care .\",\n",
    "\"Sense_2\": \"She must answer for her actions .\",\n",
    "\"Term\": \"answer\",\n",
    "\"Meaning_1\": \"In the first sentence, 'answer' means to take responsibility.\",\n",
    "\"Meaning_2\": \"In the second, ''answer' means to take responsibility. In the second, 'answer' means to take responsibility.\",\n",
    "\"Similar\": true\n",
    "}\n",
    "\n",
    "{\n",
    "\"Sense_1\": \"Hit the bottle .\",\n",
    "\"Sense_2\": \"He hit a home run .\",\n",
    "\"Term\": \"hit\",\n",
    "\"Meaning_1\": \"In the first sentence, 'hit' means to use.\",\n",
    "\"Meaning_2\": \"In the second, 'hit' means to strike.\",\n",
    "\"Similar\": false\n",
    "}\n",
    "\n",
    "\"\"\""
   ]
  },
  {
   "attachments": {},
   "cell_type": "markdown",
   "id": "000b6d2b",
   "metadata": {},
   "source": [
    "Likewise we can do it with nouns"
   ]
  },
  {
   "cell_type": "code",
   "execution_count": 7,
   "id": "97710a99",
   "metadata": {},
   "outputs": [],
   "source": [
    "fewShotNoun = \"\"\"{\n",
    "\"Sense_1\": \"A history of France .\",\n",
    "\"Sense_2\": \"A critical time in the school 's history .\",\n",
    "\"Term\": \"history\",\n",
    "\"Meaning_1\": \"In the first sentence, 'history' refers to a record.\",\n",
    "\"Meaning_2\": \"In the second sentence, 'history' means past.\",\n",
    "\"Similar\": false\n",
    "}\n",
    "\n",
    "{\n",
    "\"Sense_1\": \"I do it for the fun of it .\",\n",
    "\"Sense_2\": \"He is fun to have around .\",\n",
    "\"Term\": \"fun\",\n",
    "\"Meaning_1\": \"In the first sentence, 'fun' means having pleasure.\",\n",
    "\"Meaning_2\": \"In the second sentence, 'fun' also means pleasurable.\",\n",
    "\"Similar\": true\n",
    "}\n",
    "\n",
    "{\n",
    "\"Sense_1\": \"The rate of production at the factory is skyrocketing .\",\n",
    "\"Sense_2\": \"He works at a great rate .\",\n",
    "\"Term\": \"rate\",\n",
    "\"Meaning_1\": \"In the first sentence, 'rate' refers to speed.\",\n",
    "\"Meaning_2\": \"In the second sentence, 'rate' also means speed.\",\n",
    "\"Similar\": true\n",
    "}\n",
    "\n",
    "{\n",
    "\"Sense_1\": \"Get to the point .\",\n",
    "\"Sense_2\": \"At that point I had to leave .\",\n",
    "\"Term\": \"point\",\n",
    "\"Meaning_1\": \"In the first sentence, 'point' refers to a topic.\",\n",
    "\"Meaning_2\": \"In the second sentence, 'point' means time.\",\n",
    "\"Similar\": false\n",
    "}\n",
    "\n",
    "{\n",
    "\"Sense_1\": \"Kronas kurss — the exchange rate of the krona .\",\n",
    "\"Sense_2\": \"Grāmata maksā piecas kronas — the book costs five krona .\",\n",
    "\"Term\": \"krona\",\n",
    "\"Meaning_1\": \"In the first sentence, 'krona' means money.\",\n",
    "\"Meaning_2\": \"In the second sentence, 'krona' also means money.\",\n",
    "\"Similar\": true\n",
    "}\n",
    "\n",
    "{\n",
    "\"Sense_1\": \"Armored from head to foot .\",\n",
    "\"Sense_2\": \"The swiftest of foot .\",\n",
    "\"Term\": \"foot\",\n",
    "\"Meaning_1\": \"In the first sentence, 'foot' refers to a body part.\",\n",
    "\"Meaning_2\": \"In the second sentence, 'foot' means speed.\",\n",
    "\"Similar\": false\n",
    "}\n",
    "\n",
    "{\n",
    "\"Sense_1\": \"A patch of clouds .\",\n",
    "\"Sense_2\": \"Patches of thin ice .\",\n",
    "\"Term\": \"patch\",\n",
    "\"Meaning_1\": \"In the first sentence, 'patch' means cluster.\",\n",
    "\"Meaning_2\": \"In the second sentence, 'patch' also means cluster.\",\n",
    "\"Similar\": true\n",
    "}\n",
    "\n",
    "{\n",
    "\"Sense_1\": \"The misery and wretchedness of those slums is intolerable .\",\n",
    "\"Sense_2\": \"She was exhausted by her misery and grief .\",\n",
    "\"Term\": \"misery\",\n",
    "\"Meaning_1\": \"In the first sentence, 'misery' means a state of unhappiness.\",\n",
    "\"Meaning_2\": \"In the second sentence, 'misery' refers to a feeling of unhappiness.\",\n",
    "\"Similar\": false\n",
    "}\n",
    "\n",
    "{\n",
    "\"Sense_1\": \"Women carrying home shopping did n't give me a second glance .\",\n",
    "\"Sense_2\": \"On Saturdays we usually do the shopping .\",\n",
    "\"Term\": \"shopping\",\n",
    "\"Meaning_1\": \"In the first sentence, 'shopping' refers to purchases.\",\n",
    "\"Meaning_2\": \"In the second it means buying things.\",\n",
    "\"Similar\": false\n",
    "}\n",
    "\n",
    "{\n",
    "\"Sense_1\": \"While being impulsive can be great for artists , it is not a desirable quality for engineers .\",\n",
    "\"Sense_2\": \"Security , stability , and efficiency are good qualities of an operating system .\",\n",
    "\"Term\": \"quality\",\n",
    "\"Meaning_1\": \"In the first sentence, 'quality' means attribute\",\n",
    "\"Menaing_2\": \"In the second it means attribute\",\n",
    "\"Similar\": true\n",
    "}\n",
    "\n",
    "\"\"\""
   ]
  },
  {
   "cell_type": "code",
   "execution_count": 8,
   "id": "cc80f075",
   "metadata": {},
   "outputs": [],
   "source": [
    "def testRow(row):\n",
    "  prefix = \"Our expert annotators have rated the following pairs of sentences as similar or dissimilar in meaning.\\n\\n\"\n",
    "\n",
    "  pos = row[1][\"pos\"]\n",
    "  examples = fewShotNoun if pos == \"N\" else fewShotVerb\n",
    "\n",
    "  context = \"\"\"{{\n",
    "\"Sense_1\": \"{}\",\n",
    "\"Sense_2\": \"{}\",\n",
    "\"Term\": \"{}\",\n",
    "\"Meaning_1\":\"\"\".format(row[1][\"context-1\"], row[1][\"context-2\"], row[1][\"target\"])\n",
    "  res = query(prefix + examples + context)\n",
    "  \n",
    "  if not res.endswith(\"}\"):\n",
    "    res += \"}\"\n",
    "  try:\n",
    "    parsed = json.loads(context + res)\n",
    "  except Exception as e:\n",
    "    print('error parsing: ', e)\n",
    "    # check if there's a true in the last 100 characters\n",
    "    if \"true\" in res[-100:]:\n",
    "      parsed = {\n",
    "        \"Context\": res,\n",
    "        \"Similar\": True,\n",
    "      }\n",
    "  return parsed\n"
   ]
  },
  {
   "cell_type": "code",
   "execution_count": 9,
   "id": "b73eec67",
   "metadata": {},
   "outputs": [
    {
     "name": "stdout",
     "output_type": "stream",
     "text": [
      "scores {'V': 0, 'N': 0}\n",
      "attempted {'V': 0, 'N': 0}\n",
      "scores {'V': 1, 'N': 0}\n",
      "attempted {'V': 1, 'N': 0}\n",
      "scores {'V': 2, 'N': 0}\n",
      "attempted {'V': 2, 'N': 0}\n",
      "scores {'V': 3, 'N': 0}\n",
      "attempted {'V': 3, 'N': 0}\n",
      "scores {'V': 3, 'N': 0}\n",
      "attempted {'V': 3, 'N': 1}\n",
      "scores {'V': 3, 'N': 1}\n",
      "attempted {'V': 3, 'N': 2}\n",
      "scores {'V': 4, 'N': 1}\n",
      "attempted {'V': 4, 'N': 2}\n",
      "scores {'V': 5, 'N': 1}\n",
      "attempted {'V': 5, 'N': 2}\n",
      "scores {'V': 6, 'N': 1}\n",
      "attempted {'V': 6, 'N': 2}\n",
      "scores {'V': 7, 'N': 1}\n",
      "attempted {'V': 7, 'N': 2}\n"
     ]
    }
   ],
   "source": [
    "scores = {'V': 0, 'N': 0}\n",
    "attempted = {'V': 0, 'N': 0}\n",
    "for row in train.head(10).iterrows():\n",
    "    print('scores', scores)\n",
    "    print('attempted', attempted)\n",
    "    actual = row[1][\"label\"]\n",
    "    output = testRow(row)\n",
    "    pos = row[1][\"pos\"]\n",
    "    attempted[pos] += 1\n",
    "\n",
    "    if actual == \"T\":\n",
    "        if output['Similar']:\n",
    "            scores[pos] += 1\n",
    "        \n",
    "    if actual == \"F\":\n",
    "        if not output['Similar']:\n",
    "            scores[pos] += 1\n",
    "\n"
   ]
  },
  {
   "cell_type": "code",
   "execution_count": 10,
   "id": "f85eb05c",
   "metadata": {},
   "outputs": [
    {
     "data": {
      "text/plain": [
       "({'V': 7, 'N': 1}, {'V': 7, 'N': 3})"
      ]
     },
     "execution_count": 10,
     "metadata": {},
     "output_type": "execute_result"
    }
   ],
   "source": [
    "scores, attempted"
   ]
  },
  {
   "cell_type": "code",
   "execution_count": 11,
   "id": "936860db",
   "metadata": {},
   "outputs": [],
   "source": [
    "dev = pd.read_csv(\"dev/dev.data.txt\", sep='\\t', header=None)\n",
    "dev.columns = [\"target\", \"pos\", \"position\", \"context-1\", \"context-2\"]\n",
    "dev_gold = pd.read_csv(\"dev/dev.gold.txt\", sep='\\t', header=None)\n",
    "dev_gold.columns = [\"label\"]\n",
    "dev = pd.concat([dev_gold,dev], axis=1)\n"
   ]
  },
  {
   "cell_type": "code",
   "execution_count": 12,
   "id": "7bf1cd4f",
   "metadata": {},
   "outputs": [],
   "source": [
    "devResults = {}\n",
    "complete = 0\n",
    "correct = 0"
   ]
  },
  {
   "cell_type": "code",
   "execution_count": null,
   "id": "1052a35e",
   "metadata": {},
   "outputs": [],
   "source": [
    "\n",
    "for row in dev.iterrows():\n",
    "\n",
    "    if row[0] in devResults:\n",
    "        continue\n",
    "\n",
    "    q1 = row[1][\"context-1\"]\n",
    "    q2 = row[1][\"context-2\"]\n",
    "    target = row[1][\"target\"]\n",
    "    actual = row[1][\"label\"]\n",
    "    \n",
    "    pos = row[1][\"pos\"]\n",
    "\n",
    "    output = testRow(row)\n",
    "    \n",
    "    myResults = {}\n",
    "    myResults[\"q1\"] = q1\n",
    "    myResults[\"q2\"] = q2\n",
    "\n",
    "    myResults[\"pos\"] = row[1][\"pos\"]\n",
    "\n",
    "    myResults[\"target\"] = target\n",
    "\n",
    "    myResults[\"output\"] = output\n",
    "\n",
    "    myResults[\"actual\"] = actual\n",
    "    devResults[row[0]] = myResults\n",
    "    complete +=1\n",
    "    if actual == \"T\":\n",
    "        if output['Similar']:\n",
    "            correct += 1\n",
    "    if actual == \"F\":\n",
    "        if not output['Similar']:\n",
    "            correct += 1\n",
    "\n",
    "    pct = correct/complete\n",
    "    pct = round(pct, 2)\n",
    "\n",
    "    print (\"Score: {}, Complete: {} Correct: {} Wrong: {}\".format(pct, complete, correct, complete-correct))\n",
    "    with open('text-davinci-002.json', 'w') as f:\n",
    "        json.dump(devResults, f)\n"
   ]
  },
  {
   "cell_type": "code",
   "execution_count": null,
   "id": "8cd76e65",
   "metadata": {},
   "outputs": [],
   "source": [
    "with open('text-davinci-002.json', 'w') as f:\n",
    "    json.dump(devResults, f)\n"
   ]
  },
  {
   "cell_type": "code",
   "execution_count": null,
   "id": "bcbf8037",
   "metadata": {},
   "outputs": [],
   "source": []
  }
 ],
 "metadata": {
  "kernelspec": {
   "display_name": "venv",
   "language": "python",
   "name": "python3"
  },
  "language_info": {
   "codemirror_mode": {
    "name": "ipython",
    "version": 3
   },
   "file_extension": ".py",
   "mimetype": "text/x-python",
   "name": "python",
   "nbconvert_exporter": "python",
   "pygments_lexer": "ipython3",
   "version": "3.9.6"
  },
  "vscode": {
   "interpreter": {
    "hash": "c735a6024e2df8b2c383589304813f5c39729bfd28a4c8f38c29181a5cd583ca"
   }
  }
 },
 "nbformat": 4,
 "nbformat_minor": 5
}
